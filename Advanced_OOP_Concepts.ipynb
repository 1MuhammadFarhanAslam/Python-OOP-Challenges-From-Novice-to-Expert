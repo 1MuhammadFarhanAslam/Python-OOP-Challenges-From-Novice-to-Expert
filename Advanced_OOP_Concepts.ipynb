{
 "cells": [
  {
   "cell_type": "markdown",
   "metadata": {},
   "source": [
    "# Advanced Python OOP: Mastering the Data Model"
   ]
  },
  {
   "cell_type": "markdown",
   "metadata": {},
   "source": [
    "This notebook goes beyond the four pillars of OOP (Encapsulation, Inheritance, Polymorphism, and Abstraction) to explore the powerful features of Python's data model.\n",
    "\n",
    "By mastering these concepts, you can create classes that are more efficient, intuitive, and well-integrated with Python's built-in functionalities."
   ]
  },
  {
   "cell_type": "markdown",
   "metadata": {},
   "source": [
    "## 1. A Deeper Look at Abstraction with ABCs\n",
    "\n",
    "Abstract Base Classes (ABCs) can enforce not just abstract *methods*, but also abstract *properties*. This is crucial for designing robust frameworks where you need to guarantee that certain attributes will be present on all subclasses."
   ]
  },
  {
   "cell_type": "code",
   "execution_count": 1,
   "metadata": {},
   "outputs": [
    {
     "name": "stdout",
     "output_type": "stream",
     "text": [
      "Playing video: The Matrix\n",
      "Video format: mp4\n",
      "Playing audio: Bohemian Rhapsody\n",
      "Audio format: mp3\n"
     ]
    }
   ],
   "source": [
    "from abc import ABC, abstractmethod, abstractproperty\n",
    "\n",
    "class MediaAsset(ABC):\n",
    "    @abstractmethod\n",
    "    def play(self):\n",
    "        \"All media assets must have a way to be played.\"\n",
    "        pass\n",
    "\n",
    "    @property\n",
    "    @abstractmethod\n",
    "    def file_format(self):\n",
    "        \"All media assets must declare their file format.\"\n",
    "        pass\n",
    "\n",
    "class Video(MediaAsset):\n",
    "    def __init__(self, title):\n",
    "        self.title = title\n",
    "\n",
    "    def play(self):\n",
    "        print(f\"Playing video: {self.title}\")\n",
    "\n",
    "    @property\n",
    "    def file_format(self):\n",
    "        return \"mp4\"\n",
    "\n",
    "class Audio(MediaAsset):\n",
    "    def __init__(self, title):\n",
    "        self.title = title\n",
    "\n",
    "    def play(self):\n",
    "        print(f\"Playing audio: {self.title}\")\n",
    "\n",
    "    @property\n",
    "    def file_format(self):\n",
    "        return \"mp3\"\n",
    "\n",
    "video = Video(\"The Matrix\")\n",
    "audio = Audio(\"Bohemian Rhapsody\")\n",
    "\n",
    "video.play()\n",
    "print(f\"Video format: {video.file_format}\")\n",
    "\n",
    "audio.play()\n",
    "print(f\"Audio format: {audio.file_format}\")"
   ]
  },
  {
   "cell_type": "markdown",
   "metadata": {},
   "source": [
    "## 2. Essential OOP Decorators\n",
    "\n",
    "Decorators are functions that modify or enhance other functions. In OOP, several decorators are essential for writing clean and effective code."
   ]
  },
  {
   "cell_type": "markdown",
   "metadata": {},
   "source": [
    "### `@classmethod`\n",
    "\n",
    "A class method receives the class itself as the first argument, not the instance. They are commonly used for factory methods, which provide alternative ways to create instances of your class."
   ]
  },
  {
   "cell_type": "code",
   "execution_count": 2,
   "metadata": {},
   "outputs": [
    {
     "name": "stdout",
     "output_type": "stream",
     "text": [
      "John is 30 years old.\n",
      "Jane is 30 years old.\n"
     ]
    }
   ],
   "source": [
    "import datetime\n",
    "\n",
    "class Person:\n",
    "    def __init__(self, name, age):\n",
    "        self.name = name\n",
    "        self.age = age\n",
    "\n",
    "    @classmethod\n",
    "    def from_birth_year(cls, name, birth_year):\n",
    "        \"Creates a Person instance from a birth year.\"\n",
    "        current_year = datetime.date.today().year\n",
    "        age = current_year - birth_year\n",
    "        return cls(name, age) # cls() is equivalent to Person()\n",
    "\n",
    "    def display(self):\n",
    "        print(f\"{self.name} is {self.age} years old.\")\n",
    "\n",
    "# Regular instantiation\n",
    "person1 = Person(\"John\", 30)\n",
    "person1.display()\n",
    "\n",
    "# Alternative instantiation using the class method factory\n",
    "person2 = Person.from_birth_year(\"Jane\", 1995)\n",
    "person2.display()"
   ]
  },
  {
   "cell_type": "markdown",
   "metadata": {},
   "source": [
    "### `@staticmethod`\n",
    "\n",
    "A static method doesn't receive the instance or the class as the first argument. It's essentially a regular function namespaced within the class. Use it for utility functions that are logically related to the class but don't need access to instance or class state."
   ]
  },
  {
   "cell_type": "code",
   "execution_count": 3,
   "metadata": {},
   "outputs": [
    {
     "name": "stdout",
     "output_type": "stream",
     "text": [
      "2 + 3 = 5\n",
      "Is 7 even? False\n"
     ]
    }
   ],
   "source": [
    "class MathUtils:\n",
    "    @staticmethod\n",
    "    def add(a, b):\n",
    "        return a + b\n",
    "\n",
    "    @staticmethod\n",
    "    def is_even(n):\n",
    "        return n % 2 == 0\n",
    "\n",
    "print(f\"2 + 3 = {MathUtils.add(2, 3)}\")\n",
    "print(f\"Is 7 even? {MathUtils.is_even(7)}\")"
   ]
  },
  {
   "cell_type": "markdown",
   "metadata": {},
   "source": [
    "### `@property`\n",
    "\n",
    "The `@property` decorator is a Pythonic way to create managed attributes. It lets you turn a class method into a read-only attribute, and then you can optionally define a `.setter` and `.deleter` for it. This is perfect for validation or computed properties."
   ]
  },
  {
   "cell_type": "code",
   "execution_count": 4,
   "metadata": {},
   "outputs": [
    {
     "name": "stdout",
     "output_type": "stream",
     "text": [
      "michael.scott@company.com\n",
      "New Salary: $55000\n",
      "Error: Salary cannot be negative.\n"
     ]
    }
   ],
   "source": [
    "class Employee:\n",
    "    def __init__(self, first_name, last_name, salary):\n",
    "        self.first_name = first_name\n",
    "        self.last_name = last_name\n",
    "        self._salary = salary # Convention: _salary is a protected attribute\n",
    "\n",
    "    @property\n",
    "    def email(self):\n",
    "        \"This is a computed property.\"\n",
    "        return f\"{self.first_name}.{self.last_name}@company.com\".lower()\n",
    "\n",
    "    @property\n",
    "    def salary(self):\n",
    "        \"This is the 'getter' for salary.\"\n",
    "        return self._salary\n",
    "\n",
    "    @salary.setter\n",
    "    def salary(self, value):\n",
    "        \"This is the 'setter' for salary, with validation.\"\n",
    "        if value < 0:\n",
    "            raise ValueError(\"Salary cannot be negative.\")\n",
    "        self._salary = value\n",
    "\n",
    "emp = Employee(\"Michael\", \"Scott\", 50000)\n",
    "\n",
    "# Access email like an attribute, not a method\n",
    "print(emp.email)\n",
    "\n",
    "# The setter is called automatically on assignment\n",
    "emp.salary = 55000\n",
    "print(f\"New Salary: ${emp.salary}\")\n",
    "\n",
    "# The setter will raise an error if validation fails\n",
    "try:\n",
    "    emp.salary = -100\n",
    "except ValueError as e:\n",
    "    print(f\"Error: {e}\")"
   ]
  },
  {
   "cell_type": "markdown",
   "metadata": {},
   "source": [
    "## 3. Mastering Special (Dunder) Methods\n",
    "\n",
    "Special methods, often called \"dunder\" (double underscore) methods, allow your objects to integrate with Python's core syntax. Implementing them is key to creating intuitive, Pythonic classes."
   ]
  },
  {
   "cell_type": "markdown",
   "metadata": {},
   "source": [
    "### String Representation: `__str__` vs `__repr__`\n",
    "\n",
    "- `__str__`: For creating a user-friendly, readable output. Called by `print()` and `str()`.\n",
    "- `__repr__`: For creating an unambiguous, developer-friendly output that should, ideally, be able to recreate the object. Called by `repr()` and the interactive console."
   ]
  },
  {
   "cell_type": "code",
   "execution_count": 5,
   "metadata": {},
   "outputs": [
    {
     "name": "stdout",
     "output_type": "stream",
     "text": [
      "'{self.title}' by {self.author}\n",
      "Book(title='{self.title}', author='{self.author}')\n",
      "'{self.title}' by {self.author}\n"
     ]
    }
   ],
   "source": [
    "class Book:\n",
    "    def __init__(self, title, author):\n",
    "        self.title = title\n",
    "        self.author = author\n",
    "\n",
    "    def __str__(self):\n",
    "        return f\"'{{self.title}}' by {{self.author}}\"\n",
    "\n",
    "    def __repr__(self):\n",
    "        return f\"Book(title='{{self.title}}', author='{{self.author}}')\"\n",
    "\n",
    "book = Book(\"Dune\", \"Frank Herbert\")\n",
    "print(str(book))   # Calls __str__\n",
    "print(repr(book))  # Calls __repr__\n",
    "print(book)        # print() prefers __str__"
   ]
  },
  {
   "cell_type": "markdown",
   "metadata": {},
   "source": [
    "### Operator Overloading: Emulating Numeric Types\n",
    "\n",
    "You can define how standard operators like `+`, `-`, `*`, and `/` work with your objects."
   ]
  },
  {
   "cell_type": "code",
   "execution_count": 6,
   "metadata": {},
   "outputs": [
    {
     "name": "stdout",
     "output_type": "stream",
     "text": [
      "v1 + v2 = Vector2D(6, 8)\n",
      "v3 * 3 = Vector2D(18, 24)\n"
     ]
    }
   ],
   "source": [
    "class Vector2D:\n",
    "    def __init__(self, x, y):\n",
    "        self.x = x\n",
    "        self.y = y\n",
    "\n",
    "    def __add__(self, other):\n",
    "        \"Defines the '+' operator for Vector2D objects.\"\n",
    "        return Vector2D(self.x + other.x, self.y + other.y)\n",
    "\n",
    "    def __mul__(self, scalar):\n",
    "        \"Defines the '*' operator for scalar multiplication.\"\n",
    "        return Vector2D(self.x * scalar, self.y * scalar)\n",
    "\n",
    "    def __repr__(self):\n",
    "        return f\"Vector2D({self.x}, {self.y})\"\n",
    "\n",
    "v1 = Vector2D(2, 3)\n",
    "v2 = Vector2D(4, 5)\n",
    "\n",
    "v3 = v1 + v2  # Calls v1.__add__(v2)\n",
    "print(f\"v1 + v2 = {v3}\")\n",
    "\n",
    "v4 = v3 * 3   # Calls v3.__mul__(3)\n",
    "print(f\"v3 * 3 = {v4}\")"
   ]
  },
  {
   "cell_type": "markdown",
   "metadata": {},
   "source": [
    "### Context Management: `__enter__` and `__exit__`\n",
    "\n",
    "These methods allow your object to work with the `with` statement, which is perfect for managing resources like file handles or database connections, ensuring that cleanup code always runs."
   ]
  },
  {
   "cell_type": "code",
   "execution_count": 7,
   "metadata": {},
   "outputs": [
    {
     "name": "stdout",
     "output_type": "stream",
     "text": [
      "Doing some work...\n",
      "Work done.\n",
      "Block executed in 1.0012 seconds.\n",
      "Timer object is still available after the block.\n"
     ]
    }
   ],
   "source": [
    "import time\n",
    "\n",
    "class Timer:\n",
    "    def __enter__(self):\n",
    "        \"Called when entering the 'with' block.\"\n",
    "        self.start_time = time.time()\n",
    "        return self # The object returned here is assigned to the 'as' variable\n",
    "\n",
    "    def __exit__(self, exc_type, exc_val, exc_tb):\n",
    "        \"Called when exiting the 'with' block.\"\n",
    "        self.end_time = time.time()\n",
    "        self.elapsed = self.end_time - self.start_time\n",
    "        print(f\"Block executed in {self.elapsed:.4f} seconds.\")\n",
    "        # Return False (or nothing) to propagate exceptions, True to suppress them.\n",
    "        return False\n",
    "\n",
    "with Timer() as t:\n",
    "    print(\"Doing some work...\")\n",
    "    time.sleep(1)\n",
    "    print(\"Work done.\")\n",
    "\n",
    "print(\"Timer object is still available after the block.\")"
   ]
  },
  {
   "cell_type": "markdown",
   "metadata": {},
   "source": [
    "## 4. Advanced Design Principles & Features"
   ]
  },
  {
   "cell_type": "markdown",
   "metadata": {},
   "source": [
    "### Composition over Inheritance\n",
    "\n",
    "This is a design principle that favors building complex objects by *composing* them from smaller, simpler objects rather than inheriting from complex classes. It leads to more flexible and maintainable code.\n",
    "\n",
    "Instead of saying a `Car` **is a type of** `Engine`, you say a `Car` **has an** `Engine`."
   ]
  },
  {
   "cell_type": "code",
   "execution_count": 8,
   "metadata": {},
   "outputs": [
    {
     "name": "stdout",
     "output_type": "stream",
     "text": [
      "Driving the Honda Civic.\n",
      "Engine starting... Vroom!\n",
      "4 wheels are rotating.\n"
     ]
    }
   ],
   "source": [
    "class Engine:\n",
    "    def start(self):\n",
    "        print(\"Engine starting... Vroom!\")\n",
    "\n",
    "class Wheels:\n",
    "    def __init__(self, number):\n",
    "        self.number = number\n",
    "\n",
    "    def rotate(self):\n",
    "        print(f\"{self.number} wheels are rotating.\")\n",
    "\n",
    "class Car:\n",
    "    def __init__(self, make, model):\n",
    "        self.make = make\n",
    "        self.model = model\n",
    "        # A Car HAS an Engine (Composition)\n",
    "        self.engine = Engine()\n",
    "        # A Car HAS Wheels (Composition)\n",
    "        self.wheels = Wheels(4)\n",
    "\n",
    "    def drive(self):\n",
    "        print(f\"Driving the {self.make} {self.model}.\")\n",
    "        self.engine.start()\n",
    "        self.wheels.rotate()\n",
    "\n",
    "my_car = Car(\"Honda\", \"Civic\")\n",
    "my_car.drive()"
   ]
  },
  {
   "cell_type": "markdown",
   "metadata": {},
   "source": [
    "### Data Classes (`@dataclass`)\n",
    "\n",
    "Introduced in Python 3.7, data classes are a way to automatically add special methods like `__init__()`, `__repr__()`, and `__eq__()` to your classes, saving a lot of boilerplate code."
   ]
  },
  {
   "cell_type": "code",
   "execution_count": 9,
   "metadata": {},
   "outputs": [
    {
     "name": "stdout",
     "output_type": "stream",
     "text": [
      "Point(x=1.5, y=2.0)\n",
      "p1 == p2? True\n",
      "Error: cannot assign to field 'x'\n"
     ]
    }
   ],
   "source": [
    "from dataclasses import dataclass\n",
    "\n",
    "@dataclass(frozen=True) # frozen=True makes instances immutable\n",
    "class Point:\n",
    "    x: float\n",
    "    y: float\n",
    "\n",
    "p1 = Point(1.5, 2.0)\n",
    "p2 = Point(1.5, 2.0)\n",
    "\n",
    "# __repr__ is automatically generated\n",
    "print(p1)\n",
    "\n",
    "# __eq__ is automatically generated\n",
    "print(f\"p1 == p2? {p1 == p2}\")\n",
    "\n",
    "# Since it's frozen, trying to change it raises an error\n",
    "try:\n",
    "    p1.x = 3.0\n",
    "except Exception as e:\n",
    "    print(f\"Error: {e}\")"
   ]
  },
  {
   "cell_type": "markdown",
   "metadata": {},
   "source": [
    "### `__slots__`\n",
    "\n",
    "`__slots__` is a memory optimization tool. By default, Python uses a dictionary (`__dict__`) to store an object's attributes. If you have millions of instances, this can be memory-intensive. `__slots__` tells Python not to use a `__dict__`, and to only allocate space for a fixed set of attributes."
   ]
  },
  {
   "cell_type": "code",
   "execution_count": 10,
   "metadata": {},
   "outputs": [
    {
     "name": "stdout",
     "output_type": "stream",
     "text": [
      "Red channel: 255\n",
      "Error: 'Pixel' object has no attribute 'alpha' and no __dict__ for setting new attributes\n"
     ]
    }
   ],
   "source": [
    "class Pixel:\n",
    "    # By defining __slots__, we tell Python to use a more compact data structure\n",
    "    # instead of a memory-hungry __dict__ for each instance.\n",
    "    __slots__ = [\"r\", \"g\", \"b\"]\n",
    "\n",
    "    def __init__(self, r, g, b):\n",
    "        self.r = r\n",
    "        self.g = g\n",
    "        self.b = b\n",
    "\n",
    "p = Pixel(255, 128, 64)\n",
    "print(f\"Red channel: {p.r}\")\n",
    "\n",
    "# The main trade-off: you cannot add new attributes to the instance.\n",
    "try:\n",
    "    p.alpha = 1.0 # This would work if we didn't use __slots__\n",
    "except AttributeError as e:\n",
    "    print(f\"Error: {e}\")"
   ]
  }
 ],
 "metadata": {
  "kernelspec": {
   "display_name": "streamlit",
   "language": "python",
   "name": "python3"
  },
  "language_info": {
   "codemirror_mode": {
    "name": "ipython",
    "version": 3
   },
   "file_extension": ".py",
   "mimetype": "text/x-python",
   "name": "python",
   "nbconvert_exporter": "python",
   "pygments_lexer": "ipython3",
   "version": "3.13.5"
  }
 },
 "nbformat": 4,
 "nbformat_minor": 4
}
