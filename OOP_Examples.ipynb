{
 "cells": [
  {
   "cell_type": "markdown",
   "metadata": {},
   "source": [
    "# Python Object-Oriented Programming (OOP): From Novice to Expert"
   ]
  },
  {
   "cell_type": "markdown",
   "metadata": {},
   "source": [
    "This notebook provides a professional-level guide to the essential concepts of Object-Oriented Programming (OOP) in Python. Each section includes a clear explanation followed by a practical code example that you can execute."
   ]
  },
  {
   "cell_type": "markdown",
   "metadata": {},
   "source": [
    "## 1. Classes and Objects\n",
    "A **Class** is a blueprint for creating objects. It defines a set of attributes and methods that the created objects will have.\n",
    "An **Object** is an instance of a class. It's a concrete entity based on the blueprint provided by the class."
   ]
  },
  {
   "cell_type": "code",
   "execution_count": 1,
   "metadata": {},
   "outputs": [
    {
     "name": "stdout",
     "output_type": "stream",
     "text": [
      "Mikey is 6 years old.\n",
      "Lucy says Woof!.\n",
      "Mikey belongs to the species: Canis familiaris\n"
     ]
    }
   ],
   "source": [
    "class Dog:\n",
    "    # Class attribute: Shared by all instances of the class\n",
    "    species = \"Canis familiaris\"\n",
    "\n",
    "    # Constructor method: Initializes new objects\n",
    "    def __init__(self, name, age):\n",
    "        # Instance attributes: Specific to each object\n",
    "        self.name = name\n",
    "        self.age = age\n",
    "\n",
    "    # Instance method\n",
    "    def description(self):\n",
    "        return f\"{self.name} is {self.age} years old.\"\n",
    "\n",
    "    # Another instance method\n",
    "    def speak(self, sound):\n",
    "        return f\"{self.name} says {sound}.\"\n",
    "\n",
    "# Creating two 'Dog' objects (instances of the Dog class)\n",
    "mikey = Dog(\"Mikey\", 6)\n",
    "lucy = Dog(\"Lucy\", 4)\n",
    "\n",
    "# Accessing attributes and calling methods\n",
    "print(mikey.description())\n",
    "print(lucy.speak(\"Woof!\"))\n",
    "print(f\"Mikey belongs to the species: {mikey.species}\")"
   ]
  },
  {
   "cell_type": "markdown",
   "metadata": {},
   "source": [
    "## 2. Inheritance: Extending Classes\n",
    "Inheritance allows a class (the child class) to inherit attributes and methods from another class (the parent class). This promotes code reuse."
   ]
  },
  {
   "cell_type": "code",
   "execution_count": 2,
   "metadata": {},
   "outputs": [
    {
     "name": "stdout",
     "output_type": "stream",
     "text": [
      "Bucky is 2 years old.\n",
      "Bucky says Gruff.\n"
     ]
    }
   ],
   "source": [
    "# The 'Dog' class from above is our parent class.\n",
    "\n",
    "# This is the child class that inherits from Dog\n",
    "class Bulldog(Dog):\n",
    "    # We can override methods from the parent class\n",
    "    def speak(self, sound=\"Gruff\"):\n",
    "        # We can still access the parent method using super()\n",
    "        return super().speak(sound)\n",
    "\n",
    "bucky = Bulldog(\"Bucky\", 2)\n",
    "\n",
    "# The 'description' method is inherited from the Dog class\n",
    "print(bucky.description())\n",
    "\n",
    "# The 'speak' method is overridden in the Bulldog class\n",
    "print(bucky.speak())"
   ]
  },
  {
   "cell_type": "markdown",
   "metadata": {},
   "source": [
    "## 3. Encapsulation: Protecting Data\n",
    "Encapsulation is the bundling of data (attributes) and the methods that operate on that data into a single unit (a class). It restricts direct access to some of an object's components, which is a good practice for preventing accidental modification of data.\n",
    "\n",
    "- **Public**: Accessible from anywhere.\n",
    "- **Protected**: (By convention) Prefixed with a single underscore (`_`). Should not be accessed outside the class, but it's just a convention.\n",
    "- **Private**: Prefixed with a double underscore (`__`). Enforced by Python's name mangling."
   ]
  },
  {
   "cell_type": "code",
   "execution_count": 3,
   "metadata": {},
   "outputs": [
    {
     "name": "stdout",
     "output_type": "stream",
     "text": [
      "The car is now going 10 mph.\n",
      "Current speed: 10\n",
      "Error: 'Car' object has no attribute '__speed'\n"
     ]
    }
   ],
   "source": [
    "class Car:\n",
    "    def __init__(self, make, model):\n",
    "        self.make = make  # Public attribute\n",
    "        self._model = model # Protected attribute\n",
    "        self.__speed = 0    # Private attribute\n",
    "\n",
    "    def accelerate(self):\n",
    "        self.__speed += 10\n",
    "        print(f\"The car is now going {self.__speed} mph.\")\n",
    "\n",
    "    def get_speed(self):\n",
    "        return self.__speed\n",
    "\n",
    "my_car = Car(\"Toyota\", \"Camry\")\n",
    "my_car.accelerate()\n",
    "print(f\"Current speed: {my_car.get_speed()}\")\n",
    "\n",
    "# Direct access to a private variable will raise an error\n",
    "try:\n",
    "    print(my_car.__speed)\n",
    "except AttributeError as e:\n",
    "    print(f\"Error: {e}\")"
   ]
  },
  {
   "cell_type": "markdown",
   "metadata": {},
   "source": [
    "## 4. Polymorphism: One Interface, Many Forms\n",
    "Polymorphism allows objects of different classes to be treated as objects of a common superclass. It enables us to use a single interface (like a method name) for different types of objects."
   ]
  },
  {
   "cell_type": "code",
   "execution_count": 4,
   "metadata": {},
   "outputs": [
    {
     "name": "stdout",
     "output_type": "stream",
     "text": [
      "Meow\n",
      "Hello\n",
      "Woof\n"
     ]
    }
   ],
   "source": [
    "class Cat:\n",
    "    def speak(self):\n",
    "        return \"Meow\"\n",
    "\n",
    "class Human:\n",
    "    def speak(self):\n",
    "        return \"Hello\"\n",
    "\n",
    "# The Dog class also has a speak method, but it requires an argument.\n",
    "# For this example, let's create a simple version.\n",
    "class SimpleDog:\n",
    "    def speak(self):\n",
    "        return \"Woof\"\n",
    "\n",
    "def make_sound(creature):\n",
    "    # This function doesn't care what type of object it is,\n",
    "    # only that it has a 'speak' method.\n",
    "    print(creature.speak())\n",
    "\n",
    "# Create different objects\n",
    "whiskers = Cat()\n",
    "john = Human()\n",
    "fido = SimpleDog()\n",
    "\n",
    "# Call the same function with different objects\n",
    "make_sound(whiskers)\n",
    "make_sound(john)\n",
    "make_sound(fido)"
   ]
  },
  {
   "cell_type": "markdown",
   "metadata": {},
   "source": [
    "## 5. Abstraction: Hiding Complexity\n",
    "Abstraction hides the complex implementation details and shows only the essential features of the object. In Python, we can achieve abstraction using Abstract Base Classes (ABCs) from the `abc` module. An abstract class cannot be instantiated; it must be inherited from."
   ]
  },
  {
   "cell_type": "code",
   "execution_count": 5,
   "metadata": {},
   "outputs": [
    {
     "name": "stdout",
     "output_type": "stream",
     "text": [
      "Error: Can't instantiate abstract class Shape without an implementation for abstract methods 'area', 'perimeter'\n",
      "Square Area: 25\n",
      "Square Perimeter: 20\n"
     ]
    }
   ],
   "source": [
    "from abc import ABC, abstractmethod\n",
    "\n",
    "# Abstract base class\n",
    "class Shape(ABC):\n",
    "    @abstractmethod\n",
    "    def area(self):\n",
    "        pass\n",
    "\n",
    "    @abstractmethod\n",
    "    def perimeter(self):\n",
    "        pass\n",
    "\n",
    "# Concrete class inheriting from the abstract class\n",
    "class Square(Shape):\n",
    "    def __init__(self, side):\n",
    "        self.side = side\n",
    "\n",
    "    def area(self):\n",
    "        return self.side * self.side\n",
    "\n",
    "    def perimeter(self):\n",
    "        return 4 * self.side\n",
    "\n",
    "# You cannot create an instance of an abstract class\n",
    "try:\n",
    "    s = Shape()\n",
    "except TypeError as e:\n",
    "    print(f\"Error: {e}\")\n",
    "\n",
    "# But you can instantiate the concrete class\n",
    "my_square = Square(5)\n",
    "print(f\"Square Area: {my_square.area()}\")\n",
    "print(f\"Square Perimeter: {my_square.perimeter()}\")"
   ]
  },
  {
   "cell_type": "markdown",
   "metadata": {},
   "source": [
    "## 6. Putting It All Together: A Simple E-commerce System\n",
    "This example combines multiple OOP concepts to model a simple system for online orders. It demonstrates how classes can interact with each other."
   ]
  },
  {
   "cell_type": "code",
   "execution_count": 6,
   "metadata": {},
   "outputs": [
    {
     "name": "stdout",
     "output_type": "stream",
     "text": [
      "Added Laptop to the order.\n",
      "Added Wireless Mouse to the order.\n",
      "Added Mechanical Keyboard to the order.\n",
      "-- Order Summary --\n",
      "Customer: Alice Smith (alice@example.com)\n",
      "Products:\n",
      "- Laptop - $1200.00\n",
      "- Wireless Mouse - $25.50\n",
      "- Mechanical Keyboard - $75.00\n",
      "Total: $1300.50\n",
      "-------------------\n"
     ]
    }
   ],
   "source": [
    "class Product:\n",
    "    def __init__(self, name, price):\n",
    "        self.name = name\n",
    "        self.price = price\n",
    "\n",
    "    def __repr__(self):\n",
    "        return f\"{self.name} - ${self.price:.2f}\"\n",
    "\n",
    "class Customer:\n",
    "    def __init__(self, name, email):\n",
    "        self.name = name\n",
    "        self.email = email\n",
    "\n",
    "    def __repr__(self):\n",
    "        return f\"Customer: {self.name} ({self.email})\"\n",
    "\n",
    "class Order:\n",
    "    def __init__(self, customer):\n",
    "        self.customer = customer\n",
    "        self._products = []\n",
    "\n",
    "    def add_product(self, product):\n",
    "        self._products.append(product)\n",
    "        print(f\"Added {product.name} to the order.\")\n",
    "\n",
    "    def calculate_total(self):\n",
    "        return sum(product.price for product in self._products)\n",
    "\n",
    "    def display_order(self):\n",
    "        print(\"-- Order Summary --\")\n",
    "        print(self.customer)\n",
    "        print(\"Products:\")\n",
    "        for product in self._products:\n",
    "            print(f\"- {product}\")\n",
    "        print(f\"Total: ${self.calculate_total():.2f}\")\n",
    "        print(\"-------------------\")\n",
    "\n",
    "# --- Create instances and simulate an order ---\n",
    "\n",
    "# Create a customer\n",
    "customer1 = Customer(\"Alice Smith\", \"alice@example.com\")\n",
    "\n",
    "# Create some products\n",
    "laptop = Product(\"Laptop\", 1200.00)\n",
    "mouse = Product(\"Wireless Mouse\", 25.50)\n",
    "keyboard = Product(\"Mechanical Keyboard\", 75.00)\n",
    "\n",
    "# Create an order for the customer\n",
    "order1 = Order(customer1)\n",
    "\n",
    "# Add products to the order\n",
    "order1.add_product(laptop)\n",
    "order1.add_product(mouse)\n",
    "order1.add_product(keyboard)\n",
    "\n",
    "# Display the final order summary\n",
    "order1.display_order()"
   ]
  }
 ],
 "metadata": {
  "kernelspec": {
   "display_name": "streamlit",
   "language": "python",
   "name": "python3"
  },
  "language_info": {
   "codemirror_mode": {
    "name": "ipython",
    "version": 3
   },
   "file_extension": ".py",
   "mimetype": "text/x-python",
   "name": "python",
   "nbconvert_exporter": "python",
   "pygments_lexer": "ipython3",
   "version": "3.13.5"
  }
 },
 "nbformat": 4,
 "nbformat_minor": 4
}
